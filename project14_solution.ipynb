{
 "cells": [
  {
   "cell_type": "markdown",
   "metadata": {},
   "source": [
    "![](https://datai.co/datai.png) "
   ]
  },
  {
   "cell_type": "markdown",
   "metadata": {},
   "source": [
    "### Evaluate the dataset containing Olympics data to:\n",
    "* Find and print the name(s) of the country that won maximum gold medals\n",
    "* Find and print the countries that have won atleast 25 gold medals\n",
    "* Print the medal tally - each country name - gold medals - total number of medals won"
   ]
  },
  {
   "cell_type": "code",
   "execution_count": 1,
   "metadata": {},
   "outputs": [],
   "source": [
    "import numpy as np"
   ]
  },
  {
   "cell_type": "code",
   "execution_count": 2,
   "metadata": {},
   "outputs": [],
   "source": [
    "#Dataset from summer Olympic London, year 2012\n",
    "np_olympic_country = np.array(['GBR','CHN','RUS','USA','KOR','JPN','GER'])\n",
    "np_olympic_country_Gold = np.array([29,38,24,46,13,7,11])\n",
    "np_olympic_country_Silver = np.array([17,28,25,28,8,14,11])\n",
    "np_olympic_country_Bronze = np.array([19,22,32,29,7,17,14])\n"
   ]
  },
  {
   "cell_type": "code",
   "execution_count": 3,
   "metadata": {},
   "outputs": [
    {
     "name": "stdout",
     "output_type": "stream",
     "text": [
      "['USA']\n"
     ]
    }
   ],
   "source": [
    "#find country index with maximum gold\n",
    "gold = dict(zip(np_olympic_country,np_olympic_country_Gold))\n",
    "keymax=max(gold, key=gold.get)\n",
    "print([keymax])"
   ]
  },
  {
   "cell_type": "code",
   "execution_count": 4,
   "metadata": {},
   "outputs": [
    {
     "name": "stdout",
     "output_type": "stream",
     "text": [
      "['GBR', 'CHN', 'USA']\n"
     ]
    }
   ],
   "source": [
    "#country won more than 25 gold medals, use boolean indexing technique\n",
    "goldmedal = [word for word, occurrences in gold.items() if occurrences >= 25]\n",
    "print(goldmedal)    \n",
    "    "
   ]
  },
  {
   "cell_type": "code",
   "execution_count": 5,
   "metadata": {},
   "outputs": [
    {
     "name": "stdout",
     "output_type": "stream",
     "text": [
      "GBR , gold medal  29 , Total medals 65\n",
      "CHN , gold medal  38 , Total medals 88\n",
      "RUS , gold medal  24 , Total medals 81\n",
      "USA , gold medal  46 , Total medals 103\n",
      "KOR , gold medal  13 , Total medals 28\n",
      "JPN , gold medal  7 , Total medals 38\n",
      "GER , gold medal  11 , Total medals 36\n"
     ]
    }
   ],
   "source": [
    "#print each country name with number of gold medals\n",
    "#print each country name with total number of medals\n",
    "sum_list = [sum(x) for x in zip(np_olympic_country_Gold,np_olympic_country_Silver, np_olympic_country_Bronze)]\n",
    "for (a,b,c) in zip(np_olympic_country,np_olympic_country_Gold,sum_list):\n",
    "    print(a,', gold medal ',b,', Total medals',c)"
   ]
  },
  {
   "cell_type": "code",
   "execution_count": 7,
   "metadata": {},
   "outputs": [
    {
     "data": {
      "text/plain": [
       "array([], shape=(0, 7), dtype='<U3')"
      ]
     },
     "execution_count": 7,
     "metadata": {},
     "output_type": "execute_result"
    }
   ],
   "source": [
    "country_with_max_gold=np_olympic_country[np_olympic_country_Gold.argmax()]\n",
    "country_with_max_gold"
   ]
  },
  {
   "cell_type": "code",
   "execution_count": 8,
   "metadata": {},
   "outputs": [
    {
     "data": {
      "text/plain": [
       "array(['GBR', 'CHN', 'USA'], dtype='<U3')"
      ]
     },
     "execution_count": 8,
     "metadata": {},
     "output_type": "execute_result"
    }
   ],
   "source": [
    "country_with_max_gold=np_olympic_country[np_olympic_country_Gold>25]\n",
    "country_with_max_gold"
   ]
  },
  {
   "cell_type": "code",
   "execution_count": null,
   "metadata": {},
   "outputs": [],
   "source": []
  },
  {
   "cell_type": "code",
   "execution_count": null,
   "metadata": {},
   "outputs": [],
   "source": []
  }
 ],
 "metadata": {
  "kernelspec": {
   "display_name": "Python 3",
   "language": "python",
   "name": "python3"
  },
  "language_info": {
   "codemirror_mode": {
    "name": "ipython",
    "version": 3
   },
   "file_extension": ".py",
   "mimetype": "text/x-python",
   "name": "python",
   "nbconvert_exporter": "python",
   "pygments_lexer": "ipython3",
   "version": "3.8.8"
  }
 },
 "nbformat": 4,
 "nbformat_minor": 1
}
